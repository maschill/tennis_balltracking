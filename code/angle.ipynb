{
 "cells": [
  {
   "cell_type": "code",
   "execution_count": 20,
   "metadata": {},
   "outputs": [],
   "source": [
    "from matplotlib import pyplot as plt\n",
    "from matplotlib.colors import Colormap\n",
    "import numpy as np\n",
    "import math\n",
    "from scipy import stats\n",
    "\n",
    "path = '/home/lea/Dokumente/FSU/Anwendungspraktikum/Videos/GoPro/GoProFrames'\n",
    "coords = []\n",
    "time = []\n",
    "with open('/home/lea/Dokumente/FSU/Anwendungspraktikum/points.txt', 'r') as f:\n",
    "    i = 0\n",
    "    for row in f:\n",
    "        i += 1\n",
    "        for coord in row.split('; '):\n",
    "            x,y = coord[1:-1].split(', ')\n",
    "            coords.append([int(x), int(y)])\n",
    "            time.append(i)\n",
    "\n",
    "f = 18 #first f values represent court\n",
    "court = np.array(coords)\n",
    "coords = np.array(coords[18:])\n"
   ]
  },
  {
   "cell_type": "markdown",
   "metadata": {},
   "source": [
    "### angular between two points"
   ]
  },
  {
   "cell_type": "code",
   "execution_count": 21,
   "metadata": {
    "collapsed": true
   },
   "outputs": [],
   "source": [
    "#calculate line through two points\n",
    "def l(p1,p2):\n",
    "    return p2-p1\n",
    "\n",
    "#calulate angular between two lines\n",
    "def angular(r1, r2): # r1, r2 direction vectors of line\n",
    "    alphaRad = math.acos(abs(np.dot(r1, r2)) / (np.linalg.norm(r1) * np.linalg.norm(r2)))\n",
    "    alpha = math.degrees(alphaRad)\n",
    "    return alpha"
   ]
  },
  {
   "cell_type": "code",
   "execution_count": 22,
   "metadata": {},
   "outputs": [
    {
     "name": "stdout",
     "output_type": "stream",
     "text": [
      "[ 0.  1.  0.  0.  0.  0.  0.  0.  0.  0.  0.  0.  0.  0.  0.  0.  0.  0.\n",
      "  0.  0.  0.  0.  0.  0.  0.  0.  0.  0.  0.  0.  0.  0.  1.  1.  0.  0.\n",
      "  0.  0.  0.  0.  1.  0.  0.  0.  0.  0.  0.  0.  0.  0.  0.  0.  0.  0.\n",
      "  1.  1.  0.  0.  0.  0.  0.  1.  0.  0.  0.  0.  0.  0.  0.  0.  0.  0.\n",
      "  0.  0.  0.  0.  1.  1.  0.  0.  0.  0.  0.  0.  0.  0.  0.  0.  0.  0.\n",
      "  0.  0.  1.  0.]\n"
     ]
    }
   ],
   "source": [
    "cp = np.zeros(len(coords))\n",
    "for i in range(len(coords)-2):\n",
    "    if np.any(l(coords[i], coords[i+1])) > 0 and np.any(l(coords[i+1], coords[i+2])) > 0: #make sure not to divide by zero\n",
    "        alpha = angular(l(coords[i], coords[i+1]), l(coords[i+1], coords[i+2]))\n",
    "        if alpha > 30:\n",
    "            cp[i+1] = 1\n",
    "    else: # ball did not move in image\n",
    "        pass\n",
    "print(cp)"
   ]
  },
  {
   "cell_type": "code",
   "execution_count": 18,
   "metadata": {},
   "outputs": [
    {
     "data": {
      "image/png": "[encoded data removed]",
      "text/plain": [
       "<matplotlib.figure.Figure at 0x7fae30bc82b0>"
      ]
     },
     "metadata": {},
     "output_type": "display_data"
    }
   ],
   "source": [
    "#plt.plot(court[:18,0], court[:18,1], 'r')\n",
    "plt.figure(figsize=(16,8))\n",
    "plt.plot(coords[:,0], coords[:,1],'.')\n",
    "for i in range(len(cp)):\n",
    "    if cp[int(i)] == 1:\n",
    "        plt.scatter(coords[int(i),0], coords[int(i),1], c='r')\n",
    "plt.gca().invert_yaxis()\n",
    "#plt.scatter(coords[:,0], cp)\n",
    "plt.show()"
   ]
  },
  {
   "cell_type": "markdown",
   "metadata": {},
   "source": [
    "### Liner fit to improve search"
   ]
  },
  {
   "cell_type": "code",
   "execution_count": 23,
   "metadata": {},
   "outputs": [
    {
     "data": {
      "text/plain": [
       "94"
      ]
     },
     "execution_count": 23,
     "metadata": {},
     "output_type": "execute_result"
    }
   ],
   "source": [
    "len(coords)"
   ]
  },
  {
   "cell_type": "code",
   "execution_count": 30,
   "metadata": {},
   "outputs": [
    {
     "data": {
      "text/plain": [
       "1.0"
      ]
     },
     "execution_count": 30,
     "metadata": {},
     "output_type": "execute_result"
    }
   ],
   "source": [
    "std_err = np.zeros(1)\n",
    "sum(std_err)"
   ]
  },
  {
   "cell_type": "code",
   "execution_count": 28,
   "metadata": {},
   "outputs": [
    {
     "name": "stdout",
     "output_type": "stream",
     "text": [
      "[0, 10, 20, 31, 41, 52, 62, 73, 83, 94]\n"
     ]
    }
   ],
   "source": [
    "pv = [int(x) for x in np.linspace(0,len(coords),10)]\n",
    "std_err = np.ones(len(pv)-1)\n",
    "s = np.zeros(len(pv)-1)\n",
    "i = np.zeros(len(pv)-1)\n",
    "thres = 0.2\n",
    "err = sum(std_err) / [len(pv)-1]\n",
    "while err > thres:\n",
    "    for i in range(len(pv))-1:\n",
    "        slope, intercept, r_value, p_value, std_err = stats.linregress(coords[pv[i]:pv[i+1]])\n",
    "        std_err[i] = std_err\n",
    "        s[i] = slope\n",
    "        i[i] = intercept\n",
    "        if std_err > 0.2\n",
    "            max_dist = np.argmax(abs(coords[pv[i]:pv[i+1],1]-(intercept+slope*coords[pv[i]:pv[i+1],0])))\n",
    "            if max_dist == 0:\n",
    "                pv[i] += 1 \n",
    "            elif max_dist == len(coords[pv[i]:pv[i+1]):\n",
    "                pv[i+1] -= 1\n",
    "            else:\n",
    "                ind = index von pv[i]\n",
    "                np.insert(pv,ind+max_dist, pv[i]+max_dist) #ToDo\n",
    "                \n",
    "    \n",
    "    err = sum(std_err) / [len(pv)-1]\n",
    "    print(err)"
   ]
  },
  {
   "cell_type": "code",
   "execution_count": null,
   "metadata": {
    "collapsed": true
   },
   "outputs": [],
   "source": [
    "u = np.array(0) #starting points regression\n",
    "k = np.array(3) #end points regression\n",
    "\n",
    "if std_err > 1: u += 1\n",
    "    k += 1\n",
    "    slope, intercept, r_value, p_value, std_err = stats.linregress(coords[u:k])\n",
    "    if std_err > std_old:\n",
    "        # save values and points\n",
    "        # redo regression\n",
    "        plt.figure(figsize=(16,8))\n",
    "        plt.plot(coords[u:k,0], coords[u:k,1],'.')\n",
    "        x = [min(coords[u:k,0]), max(coords[u:k,0])]\n",
    "        y = [intercept + slope*val for val in x]\n",
    "        print(x,y,std_err)\n",
    "        plt.plot(x,y,'r-')\n",
    "        plt.gca().invert_yaxis()\n",
    "        #plt.scatter(coords[:,0], cp)\n",
    "        plt.show()\n",
    "        std_old = std_err"
   ]
  }
 ],
 "metadata": {
  "kernelspec": {
   "display_name": "Python 3",
   "language": "python",
   "name": "python3"
  },
  "language_info": {
   "codemirror_mode": {
    "name": "ipython",
    "version": 3
   },
   "file_extension": ".py",
   "mimetype": "text/x-python",
   "name": "python",
   "nbconvert_exporter": "python",
   "pygments_lexer": "ipython3",
   "version": "3.5.3"
  }
 },
 "nbformat": 4,
 "nbformat_minor": 2
}
